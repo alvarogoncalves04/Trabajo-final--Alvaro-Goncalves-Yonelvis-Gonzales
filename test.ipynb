{
 "cells": [
  {
   "cell_type": "markdown",
   "id": "038e89d0",
   "metadata": {},
   "source": [
    "# Dashboard sobre Análisis de comportamiento de los pitchers de mlb en la temporada 2022"
   ]
  },
  {
   "cell_type": "markdown",
   "id": "85c2fad4",
   "metadata": {},
   "source": [
    "# Importamos las librerias luego de haberlas instalado en la terminal "
   ]
  },
  {
   "cell_type": "code",
   "execution_count": 1,
   "id": "b2265c6e",
   "metadata": {},
   "outputs": [],
   "source": [
    "import numpy as np\n",
    "import plotly as py\n",
    "import matplotlib.pyplot as plt\n",
    "import seaborn as sns\n",
    "import plotly.express as px\n",
    "import plotly.graph_objects as go\n",
    "import pandas as pd"
   ]
  },
  {
   "cell_type": "code",
   "execution_count": 2,
   "id": "a2a525d7",
   "metadata": {},
   "outputs": [],
   "source": [
    "import streamlit as st"
   ]
  },
  {
   "cell_type": "markdown",
   "id": "9cde1fdb",
   "metadata": {},
   "source": []
  },
  {
   "cell_type": "code",
   "execution_count": null,
   "id": "5374590b",
   "metadata": {},
   "outputs": [],
   "source": [
    "a = 5 + 6"
   ]
  }
 ],
 "metadata": {
  "kernelspec": {
   "display_name": "Python 3",
   "language": "python",
   "name": "python3"
  },
  "language_info": {
   "codemirror_mode": {
    "name": "ipython",
    "version": 3
   },
   "file_extension": ".py",
   "mimetype": "text/x-python",
   "name": "python",
   "nbconvert_exporter": "python",
   "pygments_lexer": "ipython3",
   "version": "3.12.1"
  }
 },
 "nbformat": 4,
 "nbformat_minor": 5
}
